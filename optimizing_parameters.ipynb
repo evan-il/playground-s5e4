{
 "cells": [
  {
   "cell_type": "code",
   "execution_count": 18,
   "id": "4283470a",
   "metadata": {},
   "outputs": [],
   "source": [
    "import numpy as np, pandas as pd, polars as pl\n",
    "from sklearn.model_selection import KFold, GridSearchCV\n",
    "from sklearn import preprocessing as skp\n",
    "from sklearn.decomposition import PCA \n",
    "import seaborn as sns\n",
    "\n",
    "import xgboost as xgb\n",
    "from sklearn.metrics import root_mean_squared_error as rmse\n",
    "import matplotlib.pyplot as plt"
   ]
  },
  {
   "cell_type": "code",
   "execution_count": 2,
   "id": "415ab115",
   "metadata": {},
   "outputs": [],
   "source": [
    "train = pd.read_csv('train.csv', index_col = 'id')\n",
    "test = pd.read_csv('test.csv', index_col = 'id')"
   ]
  },
  {
   "cell_type": "code",
   "execution_count": 3,
   "id": "260aee67",
   "metadata": {},
   "outputs": [
    {
     "name": "stdout",
     "output_type": "stream",
     "text": [
      "<class 'pandas.core.frame.DataFrame'>\n",
      "Index: 750000 entries, 0 to 749999\n",
      "Data columns (total 11 columns):\n",
      " #   Column                       Non-Null Count   Dtype  \n",
      "---  ------                       --------------   -----  \n",
      " 0   Podcast_Name                 750000 non-null  object \n",
      " 1   Episode_Title                750000 non-null  object \n",
      " 2   Episode_Length_minutes       662907 non-null  float64\n",
      " 3   Genre                        750000 non-null  object \n",
      " 4   Host_Popularity_percentage   750000 non-null  float64\n",
      " 5   Publication_Day              750000 non-null  object \n",
      " 6   Publication_Time             750000 non-null  object \n",
      " 7   Guest_Popularity_percentage  603970 non-null  float64\n",
      " 8   Number_of_Ads                749999 non-null  float64\n",
      " 9   Episode_Sentiment            750000 non-null  object \n",
      " 10  Listening_Time_minutes       750000 non-null  float64\n",
      "dtypes: float64(5), object(6)\n",
      "memory usage: 68.7+ MB\n"
     ]
    }
   ],
   "source": [
    "train.info()"
   ]
  },
  {
   "cell_type": "code",
   "execution_count": 4,
   "id": "99726516",
   "metadata": {},
   "outputs": [
    {
     "name": "stdout",
     "output_type": "stream",
     "text": [
      "<class 'pandas.core.frame.DataFrame'>\n",
      "Index: 250000 entries, 750000 to 999999\n",
      "Data columns (total 10 columns):\n",
      " #   Column                       Non-Null Count   Dtype  \n",
      "---  ------                       --------------   -----  \n",
      " 0   Podcast_Name                 250000 non-null  object \n",
      " 1   Episode_Title                250000 non-null  object \n",
      " 2   Episode_Length_minutes       221264 non-null  float64\n",
      " 3   Genre                        250000 non-null  object \n",
      " 4   Host_Popularity_percentage   250000 non-null  float64\n",
      " 5   Publication_Day              250000 non-null  object \n",
      " 6   Publication_Time             250000 non-null  object \n",
      " 7   Guest_Popularity_percentage  201168 non-null  float64\n",
      " 8   Number_of_Ads                250000 non-null  float64\n",
      " 9   Episode_Sentiment            250000 non-null  object \n",
      "dtypes: float64(4), object(6)\n",
      "memory usage: 21.0+ MB\n"
     ]
    }
   ],
   "source": [
    "test.info()"
   ]
  },
  {
   "cell_type": "code",
   "execution_count": 5,
   "id": "6fa49ab0",
   "metadata": {},
   "outputs": [],
   "source": [
    "categorical_map = {\n",
    "        'Monday': 0, 'Tuesday': 1, 'Wednesday': 2, 'Thursday': 3, 'Friday': 4, 'Saturday': 5, 'Sunday': 6, # Day\n",
    "\n",
    "        'Morning': 0, 'Afternoon': 1, 'Evening': 2, 'Night': 3,                                            # Time\n",
    "\n",
    "        'Negative': 0, 'Neutral': 1, 'Positive': 2,                                                        # Sentiment\n",
    "\n",
    "        'True Crime': 0, 'Comedy': 1, 'Education': 2, 'Technology': 3, 'Health': 4, 'News': 5, 'Music': 6, # Genre\n",
    "        'Sports': 7, 'Business': 8, 'Lifestyle': 9\n",
    "        }\n",
    "\n",
    "categories = ['Genre', 'Podcast_Name', 'Episode_Title', 'Publication_Day', 'Publication_Time', 'Episode_Sentiment']"
   ]
  },
  {
   "cell_type": "code",
   "execution_count": 6,
   "id": "b0377738",
   "metadata": {},
   "outputs": [],
   "source": [
    "podcast = {}\n",
    "for i, n in enumerate(train['Podcast_Name'].unique()):\n",
    "    podcast[n] = i\n",
    "\n",
    "categorical_map.update(podcast)"
   ]
  },
  {
   "cell_type": "code",
   "execution_count": 7,
   "id": "ee44c421",
   "metadata": {},
   "outputs": [],
   "source": [
    "train['Episode_Title'] = train['Episode_Title'].str[8:]\n",
    "test['Episode_Title'] = test['Episode_Title'].str[8:]"
   ]
  },
  {
   "cell_type": "code",
   "execution_count": 8,
   "id": "9e02d71b",
   "metadata": {},
   "outputs": [],
   "source": [
    "train = train.replace(categorical_map).fillna(0)\n",
    "test = test.replace(categorical_map).fillna(0)"
   ]
  },
  {
   "cell_type": "code",
   "execution_count": 9,
   "id": "075e4c7d",
   "metadata": {},
   "outputs": [],
   "source": [
    "x = train.drop('Listening_Time_minutes', axis=1)\n",
    "y = train['Listening_Time_minutes']"
   ]
  },
  {
   "cell_type": "code",
   "execution_count": 10,
   "id": "0c38b08a",
   "metadata": {},
   "outputs": [],
   "source": [
    "poly = skp.PolynomialFeatures(interaction_only=True, include_bias=False)\n",
    "x_poly = poly.fit_transform(x)\n",
    "test_poly = poly.fit_transform(test)"
   ]
  },
  {
   "cell_type": "code",
   "execution_count": 11,
   "id": "3b016d46",
   "metadata": {},
   "outputs": [],
   "source": [
    "cols = poly.get_feature_names_out(x.columns)\n",
    "x = pd.DataFrame(x_poly, columns=cols)\n",
    "\n",
    "test_cols = poly.get_feature_names_out(test.columns)\n",
    "test = pd.DataFrame(test_poly, columns=test_cols)"
   ]
  },
  {
   "cell_type": "code",
   "execution_count": 12,
   "id": "e92603cb",
   "metadata": {},
   "outputs": [
    {
     "name": "stdout",
     "output_type": "stream",
     "text": [
      "<class 'pandas.core.frame.DataFrame'>\n",
      "RangeIndex: 750000 entries, 0 to 749999\n",
      "Data columns (total 55 columns):\n",
      " #   Column                                                  Non-Null Count   Dtype  \n",
      "---  ------                                                  --------------   -----  \n",
      " 0   Podcast_Name                                            750000 non-null  float64\n",
      " 1   Episode_Title                                           750000 non-null  float64\n",
      " 2   Episode_Length_minutes                                  750000 non-null  float64\n",
      " 3   Genre                                                   750000 non-null  float64\n",
      " 4   Host_Popularity_percentage                              750000 non-null  float64\n",
      " 5   Publication_Day                                         750000 non-null  float64\n",
      " 6   Publication_Time                                        750000 non-null  float64\n",
      " 7   Guest_Popularity_percentage                             750000 non-null  float64\n",
      " 8   Number_of_Ads                                           750000 non-null  float64\n",
      " 9   Episode_Sentiment                                       750000 non-null  float64\n",
      " 10  Podcast_Name Episode_Title                              750000 non-null  float64\n",
      " 11  Podcast_Name Episode_Length_minutes                     750000 non-null  float64\n",
      " 12  Podcast_Name Genre                                      750000 non-null  float64\n",
      " 13  Podcast_Name Host_Popularity_percentage                 750000 non-null  float64\n",
      " 14  Podcast_Name Publication_Day                            750000 non-null  float64\n",
      " 15  Podcast_Name Publication_Time                           750000 non-null  float64\n",
      " 16  Podcast_Name Guest_Popularity_percentage                750000 non-null  float64\n",
      " 17  Podcast_Name Number_of_Ads                              750000 non-null  float64\n",
      " 18  Podcast_Name Episode_Sentiment                          750000 non-null  float64\n",
      " 19  Episode_Title Episode_Length_minutes                    750000 non-null  float64\n",
      " 20  Episode_Title Genre                                     750000 non-null  float64\n",
      " 21  Episode_Title Host_Popularity_percentage                750000 non-null  float64\n",
      " 22  Episode_Title Publication_Day                           750000 non-null  float64\n",
      " 23  Episode_Title Publication_Time                          750000 non-null  float64\n",
      " 24  Episode_Title Guest_Popularity_percentage               750000 non-null  float64\n",
      " 25  Episode_Title Number_of_Ads                             750000 non-null  float64\n",
      " 26  Episode_Title Episode_Sentiment                         750000 non-null  float64\n",
      " 27  Episode_Length_minutes Genre                            750000 non-null  float64\n",
      " 28  Episode_Length_minutes Host_Popularity_percentage       750000 non-null  float64\n",
      " 29  Episode_Length_minutes Publication_Day                  750000 non-null  float64\n",
      " 30  Episode_Length_minutes Publication_Time                 750000 non-null  float64\n",
      " 31  Episode_Length_minutes Guest_Popularity_percentage      750000 non-null  float64\n",
      " 32  Episode_Length_minutes Number_of_Ads                    750000 non-null  float64\n",
      " 33  Episode_Length_minutes Episode_Sentiment                750000 non-null  float64\n",
      " 34  Genre Host_Popularity_percentage                        750000 non-null  float64\n",
      " 35  Genre Publication_Day                                   750000 non-null  float64\n",
      " 36  Genre Publication_Time                                  750000 non-null  float64\n",
      " 37  Genre Guest_Popularity_percentage                       750000 non-null  float64\n",
      " 38  Genre Number_of_Ads                                     750000 non-null  float64\n",
      " 39  Genre Episode_Sentiment                                 750000 non-null  float64\n",
      " 40  Host_Popularity_percentage Publication_Day              750000 non-null  float64\n",
      " 41  Host_Popularity_percentage Publication_Time             750000 non-null  float64\n",
      " 42  Host_Popularity_percentage Guest_Popularity_percentage  750000 non-null  float64\n",
      " 43  Host_Popularity_percentage Number_of_Ads                750000 non-null  float64\n",
      " 44  Host_Popularity_percentage Episode_Sentiment            750000 non-null  float64\n",
      " 45  Publication_Day Publication_Time                        750000 non-null  float64\n",
      " 46  Publication_Day Guest_Popularity_percentage             750000 non-null  float64\n",
      " 47  Publication_Day Number_of_Ads                           750000 non-null  float64\n",
      " 48  Publication_Day Episode_Sentiment                       750000 non-null  float64\n",
      " 49  Publication_Time Guest_Popularity_percentage            750000 non-null  float64\n",
      " 50  Publication_Time Number_of_Ads                          750000 non-null  float64\n",
      " 51  Publication_Time Episode_Sentiment                      750000 non-null  float64\n",
      " 52  Guest_Popularity_percentage Number_of_Ads               750000 non-null  float64\n",
      " 53  Guest_Popularity_percentage Episode_Sentiment           750000 non-null  float64\n",
      " 54  Number_of_Ads Episode_Sentiment                         750000 non-null  float64\n",
      "dtypes: float64(55)\n",
      "memory usage: 314.7 MB\n"
     ]
    }
   ],
   "source": [
    "x.info()"
   ]
  },
  {
   "cell_type": "code",
   "execution_count": 13,
   "id": "d73aea02",
   "metadata": {},
   "outputs": [],
   "source": [
    "important_features_bygain = ['Episode_Length_minutes','Episode_Title Episode_Length_minutes', 'Episode_Title', 'Podcast_Name','Number_of_Ads',\n",
    "'Episode_Length_minutes Host_Popularity_percentage', 'Podcast_Name Episode_Length_minutes', 'Host_Popularity_percentage']\n",
    "idx = []\n",
    "for i, col in enumerate(x.columns): \n",
    "    if col in important_features_bygain: idx.append(i)"
   ]
  },
  {
   "cell_type": "code",
   "execution_count": 14,
   "id": "6c83acc2",
   "metadata": {},
   "outputs": [],
   "source": [
    "x_n = x.iloc[idx]\n",
    "test_n = test.iloc[idx]"
   ]
  },
  {
   "cell_type": "code",
   "execution_count": 15,
   "id": "ababc7f4",
   "metadata": {},
   "outputs": [
    {
     "name": "stderr",
     "output_type": "stream",
     "text": [
      "C:\\Users\\evan\\AppData\\Local\\Temp\\ipykernel_20696\\4176405769.py:2: SettingWithCopyWarning: \n",
      "A value is trying to be set on a copy of a slice from a DataFrame.\n",
      "Try using .loc[row_indexer,col_indexer] = value instead\n",
      "\n",
      "See the caveats in the documentation: https://pandas.pydata.org/pandas-docs/stable/user_guide/indexing.html#returning-a-view-versus-a-copy\n",
      "  x_n[c] = x_n[c].astype('category')\n",
      "C:\\Users\\evan\\AppData\\Local\\Temp\\ipykernel_20696\\4176405769.py:3: SettingWithCopyWarning: \n",
      "A value is trying to be set on a copy of a slice from a DataFrame.\n",
      "Try using .loc[row_indexer,col_indexer] = value instead\n",
      "\n",
      "See the caveats in the documentation: https://pandas.pydata.org/pandas-docs/stable/user_guide/indexing.html#returning-a-view-versus-a-copy\n",
      "  test_n[c] = test_n[c].astype('category')\n"
     ]
    }
   ],
   "source": [
    "for c in categories: \n",
    "    x_n[c] = x_n[c].astype('category')\n",
    "    test_n[c] = test_n[c].astype('category')"
   ]
  },
  {
   "cell_type": "code",
   "execution_count": 17,
   "id": "9b15fe3e",
   "metadata": {},
   "outputs": [
    {
     "name": "stdout",
     "output_type": "stream",
     "text": [
      "<class 'pandas.core.frame.DataFrame'>\n",
      "RangeIndex: 0 entries\n",
      "Empty DataFrame\n"
     ]
    }
   ],
   "source": [
    "pred = pd.DataFrame()\n",
    "pred.info()"
   ]
  },
  {
   "cell_type": "code",
   "execution_count": null,
   "id": "00e1ee89",
   "metadata": {},
   "outputs": [],
   "source": [
    "#K = 5\n",
    "#kf = KFold(K, shuffle=True, random_state=55)\n",
    "\n",
    "# Remove KFold for now."
   ]
  },
  {
   "cell_type": "markdown",
   "id": "2a833594",
   "metadata": {},
   "source": [
    "----"
   ]
  },
  {
   "cell_type": "code",
   "execution_count": 20,
   "id": "8ccb397b",
   "metadata": {},
   "outputs": [],
   "source": [
    "model = xgb.XGBRegressor(objective='reg:squarederror', eval_metric = 'rmse', enable_categorical = True, device = 'cuda', tree_method=\"hist\")"
   ]
  },
  {
   "cell_type": "code",
   "execution_count": 23,
   "id": "a3340731",
   "metadata": {},
   "outputs": [],
   "source": [
    "parameters = {\n",
    "    'learning_rate' : [0.1, 0.2],\n",
    "    'min_child_weight' : [1,2,3,4,5,6,7]\n",
    "}"
   ]
  },
  {
   "cell_type": "code",
   "execution_count": null,
   "id": "1003d6e1",
   "metadata": {},
   "outputs": [
    {
     "name": "stdout",
     "output_type": "stream",
     "text": [
      "Fitting 5 folds for each of 14 candidates, totalling 70 fits\n"
     ]
    },
    {
     "name": "stderr",
     "output_type": "stream",
     "text": [
      "c:\\Users\\evan\\anaconda3\\lib\\site-packages\\xgboost\\core.py:729: UserWarning: [20:40:20] WARNING: C:\\actions-runner\\_work\\xgboost\\xgboost\\src\\common\\error_msg.cc:58: Falling back to prediction using DMatrix due to mismatched devices. This might lead to higher memory usage and slower performance. XGBoost is running on: cuda:0, while the input data is on: cpu.\n",
      "Potential solutions:\n",
      "- Use a data structure that matches the device ordinal in the booster.\n",
      "- Set the device for booster before call to inplace_predict.\n",
      "\n",
      "This warning will only be shown once.\n",
      "\n",
      "  return func(**kwargs)\n"
     ]
    },
    {
     "name": "stdout",
     "output_type": "stream",
     "text": [
      "[CV] END ..............learning_rate=0.1, min_child_weight=1; total time=   2.3s\n",
      "[CV] END ..............learning_rate=0.1, min_child_weight=1; total time=   1.9s\n",
      "[CV] END ..............learning_rate=0.1, min_child_weight=1; total time=   1.9s\n",
      "[CV] END ..............learning_rate=0.1, min_child_weight=1; total time=   1.9s\n",
      "[CV] END ..............learning_rate=0.1, min_child_weight=1; total time=   2.0s\n",
      "[CV] END ..............learning_rate=0.1, min_child_weight=2; total time=   1.9s\n",
      "[CV] END ..............learning_rate=0.1, min_child_weight=2; total time=   1.9s\n",
      "[CV] END ..............learning_rate=0.1, min_child_weight=2; total time=   1.9s\n",
      "[CV] END ..............learning_rate=0.1, min_child_weight=2; total time=   1.9s\n",
      "[CV] END ..............learning_rate=0.1, min_child_weight=2; total time=   1.9s\n",
      "[CV] END ..............learning_rate=0.1, min_child_weight=3; total time=   1.8s\n",
      "[CV] END ..............learning_rate=0.1, min_child_weight=3; total time=   1.8s\n",
      "[CV] END ..............learning_rate=0.1, min_child_weight=3; total time=   1.8s\n",
      "[CV] END ..............learning_rate=0.1, min_child_weight=3; total time=   1.8s\n",
      "[CV] END ..............learning_rate=0.1, min_child_weight=3; total time=   1.8s\n",
      "[CV] END ..............learning_rate=0.1, min_child_weight=4; total time=   1.8s\n",
      "[CV] END ..............learning_rate=0.1, min_child_weight=4; total time=   1.8s\n",
      "[CV] END ..............learning_rate=0.1, min_child_weight=4; total time=   1.8s\n",
      "[CV] END ..............learning_rate=0.1, min_child_weight=4; total time=   1.8s\n",
      "[CV] END ..............learning_rate=0.1, min_child_weight=4; total time=   1.8s\n",
      "[CV] END ..............learning_rate=0.1, min_child_weight=5; total time=   1.8s\n",
      "[CV] END ..............learning_rate=0.1, min_child_weight=5; total time=   1.8s\n",
      "[CV] END ..............learning_rate=0.1, min_child_weight=5; total time=   1.8s\n",
      "[CV] END ..............learning_rate=0.1, min_child_weight=5; total time=   1.8s\n",
      "[CV] END ..............learning_rate=0.1, min_child_weight=5; total time=   1.8s\n",
      "[CV] END ..............learning_rate=0.1, min_child_weight=6; total time=   1.8s\n",
      "[CV] END ..............learning_rate=0.1, min_child_weight=6; total time=   1.8s\n",
      "[CV] END ..............learning_rate=0.1, min_child_weight=6; total time=   1.8s\n",
      "[CV] END ..............learning_rate=0.1, min_child_weight=6; total time=   1.8s\n",
      "[CV] END ..............learning_rate=0.1, min_child_weight=6; total time=   1.7s\n",
      "[CV] END ..............learning_rate=0.1, min_child_weight=7; total time=   1.8s\n",
      "[CV] END ..............learning_rate=0.1, min_child_weight=7; total time=   1.8s\n",
      "[CV] END ..............learning_rate=0.1, min_child_weight=7; total time=   1.9s\n",
      "[CV] END ..............learning_rate=0.1, min_child_weight=7; total time=   1.8s\n",
      "[CV] END ..............learning_rate=0.1, min_child_weight=7; total time=   1.9s\n",
      "[CV] END ..............learning_rate=0.2, min_child_weight=1; total time=   1.7s\n",
      "[CV] END ..............learning_rate=0.2, min_child_weight=1; total time=   1.8s\n",
      "[CV] END ..............learning_rate=0.2, min_child_weight=1; total time=   1.9s\n",
      "[CV] END ..............learning_rate=0.2, min_child_weight=1; total time=   1.7s\n",
      "[CV] END ..............learning_rate=0.2, min_child_weight=1; total time=   1.7s\n",
      "[CV] END ..............learning_rate=0.2, min_child_weight=2; total time=   1.8s\n",
      "[CV] END ..............learning_rate=0.2, min_child_weight=2; total time=   1.9s\n",
      "[CV] END ..............learning_rate=0.2, min_child_weight=2; total time=   1.9s\n",
      "[CV] END ..............learning_rate=0.2, min_child_weight=2; total time=   1.8s\n",
      "[CV] END ..............learning_rate=0.2, min_child_weight=2; total time=   1.7s\n",
      "[CV] END ..............learning_rate=0.2, min_child_weight=3; total time=   1.8s\n",
      "[CV] END ..............learning_rate=0.2, min_child_weight=3; total time=   1.8s\n",
      "[CV] END ..............learning_rate=0.2, min_child_weight=3; total time=   1.9s\n",
      "[CV] END ..............learning_rate=0.2, min_child_weight=3; total time=   1.8s\n",
      "[CV] END ..............learning_rate=0.2, min_child_weight=3; total time=   1.7s\n",
      "[CV] END ..............learning_rate=0.2, min_child_weight=4; total time=   2.7s\n",
      "[CV] END ..............learning_rate=0.2, min_child_weight=4; total time=   2.1s\n",
      "[CV] END ..............learning_rate=0.2, min_child_weight=4; total time=   2.0s\n",
      "[CV] END ..............learning_rate=0.2, min_child_weight=4; total time=   1.8s\n",
      "[CV] END ..............learning_rate=0.2, min_child_weight=4; total time=   1.8s\n"
     ]
    }
   ],
   "source": [
    "gs = GridSearchCV(model, parameters, scoring='neg_root_mean_squared_error', cv=5, verbose=2)\n",
    "gs.fit(x, y)"
   ]
  }
 ],
 "metadata": {
  "kernelspec": {
   "display_name": "base",
   "language": "python",
   "name": "python3"
  },
  "language_info": {
   "codemirror_mode": {
    "name": "ipython",
    "version": 3
   },
   "file_extension": ".py",
   "mimetype": "text/x-python",
   "name": "python",
   "nbconvert_exporter": "python",
   "pygments_lexer": "ipython3",
   "version": "3.10.9"
  }
 },
 "nbformat": 4,
 "nbformat_minor": 5
}
